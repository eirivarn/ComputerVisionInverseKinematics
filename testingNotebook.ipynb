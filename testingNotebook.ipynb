{
 "cells": [
  {
   "cell_type": "code",
   "execution_count": 1,
   "metadata": {},
   "outputs": [],
   "source": [
    "%load_ext autoreload\n",
    "%autoreload 2"
   ]
  },
  {
   "cell_type": "code",
   "execution_count": 2,
   "metadata": {},
   "outputs": [],
   "source": [
    "import cv2\n",
    "from src.utils.imageProcessing import * \n",
    "import matplotlib.pyplot as plt  "
   ]
  },
  {
   "cell_type": "code",
   "execution_count": 3,
   "metadata": {},
   "outputs": [],
   "source": [
    "sigma_D = 2\n",
    "sigma_I = 4\n",
    "\n",
    "filter_constants_D = compute_filter_constants(sigma=sigma_D)\n",
    " \n",
    "filter_constants_I = compute_filter_constants(sigma=sigma_I) \n",
    "\n"
   ]
  },
  {
   "cell_type": "code",
   "execution_count": null,
   "metadata": {},
   "outputs": [],
   "source": [
    "\n",
    "\n",
    "frameWidth = 640\n",
    "frameHeight = 480\n",
    "cap = cv2.VideoCapture(0)\n",
    "cap.set(cv2.CAP_PROP_FPS, 30)\n",
    "cap.set(3, frameWidth)\n",
    "cap.set(4, frameHeight)\n",
    "cap.set(10,150)\n",
    "\n",
    "\n",
    "while True:\n",
    "    success, img = cap.read()\n",
    "    fgbg = cv2.BackgroundSubtractorMOG2();\n",
    "    fgmask = fgbg.apply(img);\n",
    "    \n",
    "\n",
    "    # I = (rgb_to_gray(img))\n",
    "    # I_cop = I[150:640-150, 100:480-100]\n",
    "\n",
    "    # I_show = np.uint8(I_cop)\n",
    "    \n",
    "    # response = harrisResponse_opt(I_cop, 0.06, filter_constants_D, filter_constants_I)\n",
    "\n",
    "    # response = np.uint8(response)\n",
    "\n",
    "    # color_mapped_image = cv2.applyColorMap(response, cv2.COLORMAP_JET)\n",
    "\n",
    "    # if np.count_nonzero(response) > 0 : \n",
    "    #     y_cords, x_cords = extract_local_maxima(response, 0.006)\n",
    "    #     #x_cords, y_cords = remove_close_points(x_cords, y_cords, 100)\n",
    "    #     for x, y in zip(x_cords,y_cords): \n",
    "    #         cv2.circle(I_show, (x, y), 5, (255, 255, 0))\n",
    "\n",
    "    cv2.imshow(\"Response\", fgmask)\n",
    "\n",
    "    if cv2.waitKey(1) & 0xFF == ord('q'):\n",
    "        break"
   ]
  },
  {
   "cell_type": "code",
   "execution_count": null,
   "metadata": {},
   "outputs": [],
   "source": []
  }
 ],
 "metadata": {
  "kernelspec": {
   "display_name": ".venv",
   "language": "python",
   "name": "python3"
  },
  "language_info": {
   "codemirror_mode": {
    "name": "ipython",
    "version": 3
   },
   "file_extension": ".py",
   "mimetype": "text/x-python",
   "name": "python",
   "nbconvert_exporter": "python",
   "pygments_lexer": "ipython3",
   "version": "3.10.13"
  }
 },
 "nbformat": 4,
 "nbformat_minor": 2
}
